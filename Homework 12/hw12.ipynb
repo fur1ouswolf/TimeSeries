{
 "cells": [
  {
   "cell_type": "code",
   "execution_count": 18,
   "id": "initial_id",
   "metadata": {
    "collapsed": true,
    "ExecuteTime": {
     "end_time": "2024-01-03T12:40:12.405439Z",
     "start_time": "2024-01-03T12:40:12.401699Z"
    }
   },
   "outputs": [],
   "source": [
    "import pandas as pd\n",
    "import matplotlib.pyplot  as plt\n",
    "import os\n",
    "import torch\n",
    "import torch.nn as nn\n",
    "import numpy as np\n",
    "import torch.optim as optim\n",
    "import torch.utils.data as torch_data"
   ]
  },
  {
   "cell_type": "code",
   "execution_count": 2,
   "outputs": [],
   "source": [
    "data = pd.read_csv(\"data/manual_30min_norm.csv\")\n",
    "validation = pd.read_csv(\"data/iiot_30min_norm.csv\")"
   ],
   "metadata": {
    "collapsed": false,
    "ExecuteTime": {
     "end_time": "2024-01-03T12:34:59.136881Z",
     "start_time": "2024-01-03T12:34:59.042218Z"
    }
   },
   "id": "539a227c7e0369d3"
  },
  {
   "cell_type": "code",
   "execution_count": 8,
   "outputs": [],
   "source": [
    "def data_split(data, param=\"1\", train_percentage=0.67):\n",
    "    timeseries = data[data.columns[int(param)]].values.astype('float32')\n",
    "    train_size = int(len(timeseries) * train_percentage)\n",
    "    train, test = timeseries[:train_size], timeseries[train_size:]\n",
    "    return train, test, timeseries"
   ],
   "metadata": {
    "collapsed": false,
    "ExecuteTime": {
     "end_time": "2024-01-03T12:36:45.642333Z",
     "start_time": "2024-01-03T12:36:45.640028Z"
    }
   },
   "id": "7b7043c9c196f1c"
  },
  {
   "cell_type": "code",
   "execution_count": 12,
   "outputs": [],
   "source": [
    "def create_dataset(dataset, lookback):\n",
    "    \"\"\"Transform a time series into a prediction dataset\n",
    "    \n",
    "    Args:\n",
    "        dataset: A numpy array of time series, first dimension is the time steps\n",
    "        lookback: Size of window for prediction\n",
    "    \"\"\"\n",
    "    X, y = [], []\n",
    "    for i in range(len(dataset)-lookback):\n",
    "        feature = dataset[i:i+lookback]\n",
    "        target = dataset[i+1:i+lookback+1]\n",
    "        X.append(feature)\n",
    "        y.append(target)\n",
    "    return torch.tensor(X), torch.tensor(y)"
   ],
   "metadata": {
    "collapsed": false,
    "ExecuteTime": {
     "end_time": "2024-01-03T12:37:13.438039Z",
     "start_time": "2024-01-03T12:37:13.431735Z"
    }
   },
   "id": "24dc23b8cd2f9361"
  },
  {
   "cell_type": "code",
   "execution_count": 13,
   "outputs": [],
   "source": [
    "class AirModel(nn.Module):\n",
    "    def __init__(self):\n",
    "        super().__init__()\n",
    "        self.lstm = nn.LSTM(input_size=1, hidden_size=50, num_layers=1, batch_first=True)\n",
    "        self.linear = nn.Linear(50, 1)\n",
    "    def forward(self, x):\n",
    "        x, _ = self.lstm(x)\n",
    "        x = self.linear(x)\n",
    "        return x"
   ],
   "metadata": {
    "collapsed": false,
    "ExecuteTime": {
     "end_time": "2024-01-03T12:37:13.649904Z",
     "start_time": "2024-01-03T12:37:13.648239Z"
    }
   },
   "id": "cce4b316b7d9e339"
  },
  {
   "cell_type": "code",
   "execution_count": 14,
   "outputs": [],
   "source": [
    "train, test, total = data_split(data)\n",
    "lookback = 1\n",
    "X_train, y_train = create_dataset(train, lookback=lookback)\n",
    "X_test, y_test = create_dataset(test, lookback=lookback)"
   ],
   "metadata": {
    "collapsed": false,
    "ExecuteTime": {
     "end_time": "2024-01-03T12:37:14.178024Z",
     "start_time": "2024-01-03T12:37:14.040390Z"
    }
   },
   "id": "676eb5cfd0d84e7b"
  },
  {
   "cell_type": "code",
   "execution_count": 15,
   "outputs": [],
   "source": [
    "model = AirModel()\n",
    "optimizer = optim.Adam(model.parameters())\n",
    "loss_fn = nn.MSELoss()\n",
    "loader = torch_data.DataLoader(torch_data.TensorDataset(X_train, y_train), shuffle=True, batch_size=8)\n",
    "\n",
    "EPOCHS = 20"
   ],
   "metadata": {
    "collapsed": false,
    "ExecuteTime": {
     "end_time": "2024-01-03T12:37:30.542037Z",
     "start_time": "2024-01-03T12:37:30.297750Z"
    }
   },
   "id": "90fcbec6fb75f715"
  },
  {
   "cell_type": "code",
   "execution_count": 25,
   "outputs": [],
   "source": [
    "def train_model(model, X_train, X_test, y_train, y_test, n_epochs):\n",
    "    y_pred_train = None\n",
    "    y_pred_test = None\n",
    "\n",
    "    for epoch in range(n_epochs):\n",
    "        model.train()\n",
    "        for X_batch, y_batch in loader:\n",
    "            y_pred = model(X_batch)\n",
    "            loss = loss_fn(y_pred, y_batch)\n",
    "            optimizer.zero_grad()\n",
    "            loss.backward()\n",
    "            optimizer.step()\n",
    "        # Validation\n",
    "        # if epoch % 10 != 0:\n",
    "        #     continue\n",
    "        model.eval()\n",
    "        with torch.no_grad():\n",
    "            y_pred = model(X_train)\n",
    "            y_pred_train = y_pred\n",
    "            train_rmse = np.sqrt(loss_fn(y_pred, y_train))\n",
    "            y_pred = model(X_test)\n",
    "            y_pred_test = y_pred\n",
    "            test_rmse = np.sqrt(loss_fn(y_pred, y_test))\n",
    "        print(\"Epoch %d: train RMSE %.4f, test RMSE %.4f\" % (epoch, train_rmse, test_rmse))\n",
    "    return y_pred_train, y_pred_test, model"
   ],
   "metadata": {
    "collapsed": false,
    "ExecuteTime": {
     "end_time": "2024-01-03T12:51:35.729957Z",
     "start_time": "2024-01-03T12:51:35.712474Z"
    }
   },
   "id": "bcbad87353d1d9bf"
  },
  {
   "cell_type": "code",
   "execution_count": 26,
   "outputs": [
    {
     "name": "stdout",
     "output_type": "stream",
     "text": [
      "Epoch 0: train RMSE 0.0015, test RMSE 0.0016\n",
      "Epoch 1: train RMSE 0.0015, test RMSE 0.0016\n",
      "Epoch 2: train RMSE 0.0031, test RMSE 0.0034\n",
      "Epoch 3: train RMSE 0.0015, test RMSE 0.0016\n",
      "Epoch 4: train RMSE 0.0017, test RMSE 0.0018\n",
      "Epoch 5: train RMSE 0.0021, test RMSE 0.0022\n",
      "Epoch 6: train RMSE 0.0015, test RMSE 0.0016\n",
      "Epoch 7: train RMSE 0.0018, test RMSE 0.0019\n",
      "Epoch 8: train RMSE 0.0020, test RMSE 0.0022\n",
      "Epoch 9: train RMSE 0.0016, test RMSE 0.0017\n",
      "Epoch 10: train RMSE 0.0015, test RMSE 0.0016\n",
      "Epoch 11: train RMSE 0.0018, test RMSE 0.0019\n",
      "Epoch 12: train RMSE 0.0015, test RMSE 0.0016\n",
      "Epoch 13: train RMSE 0.0018, test RMSE 0.0019\n",
      "Epoch 14: train RMSE 0.0015, test RMSE 0.0016\n",
      "Epoch 15: train RMSE 0.0017, test RMSE 0.0019\n",
      "Epoch 16: train RMSE 0.0021, test RMSE 0.0022\n",
      "Epoch 17: train RMSE 0.0015, test RMSE 0.0016\n",
      "Epoch 18: train RMSE 0.0019, test RMSE 0.0020\n",
      "Epoch 19: train RMSE 0.0016, test RMSE 0.0017\n"
     ]
    }
   ],
   "source": [
    "y_pred_train, y_pred_test, model = train_model(model, X_train, X_test, y_train, y_test, EPOCHS)"
   ],
   "metadata": {
    "collapsed": false,
    "ExecuteTime": {
     "end_time": "2024-01-03T12:54:07.819036Z",
     "start_time": "2024-01-03T12:51:37.095890Z"
    }
   },
   "id": "67366e5c8f989893"
  },
  {
   "cell_type": "code",
   "execution_count": 19,
   "outputs": [],
   "source": [
    "torch.save(model, f\"./lstm_forecast_{EPOCHS}_epochs.pth\")"
   ],
   "metadata": {
    "collapsed": false,
    "ExecuteTime": {
     "end_time": "2024-01-03T12:44:30.849560Z",
     "start_time": "2024-01-03T12:44:30.840911Z"
    }
   },
   "id": "337e6d14a8d327b6"
  },
  {
   "cell_type": "code",
   "execution_count": 23,
   "outputs": [],
   "source": [
    "import numpy as np\n",
    "from sklearn.metrics import (mean_absolute_error, mean_squared_error,\n",
    "                            r2_score)\n",
    "from math import sqrt\n",
    "\n",
    "def mean_absolute_percentage_error(y_true, y_pred):\n",
    "    return np.mean(np.abs((y_true - y_pred) / y_true)) * 100\n",
    "\n",
    "def validate(true, pred):\n",
    "    true = pd.DataFrame(true.flatten().numpy())[0]\n",
    "    pred = pd.DataFrame(pred.flatten().numpy())[0]\n",
    "    print(\"MSE:\", mean_squared_error(true, pred))\n",
    "    print(\"RMSE:\", sqrt(mean_squared_error(true, pred)))\n",
    "    print(\"MAE:\", mean_absolute_error(true, pred))\n",
    "    print(\"MAPE:\", mean_absolute_percentage_error(true, pred))\n",
    "    print(\"R2:\", r2_score(true, pred))\n",
    "\n",
    "def plot_train_n_pred(X_train, X_test, total, model):\n",
    "    with torch.no_grad():\n",
    "    # shift train predictions for plotting\n",
    "        train_plot = np.ones_like(total) * np.nan\n",
    "        y_pred = model(X_train)\n",
    "        y_pred = y_pred[:, -1]\n",
    "        train_size = len(X_train)\n",
    "        train_plot[lookback:train_size + 1] = model(X_train)[:, -1]\n",
    "        # shift test predictions for plotting\n",
    "        test_plot = np.ones_like(total) * np.nan\n",
    "        test_plot[train_size + lookback:len(total) - 1] = model(X_test)[:, -1]\n",
    "\n",
    "    plt.rcParams[\"figure.figsize\"] = [12, 7]\n",
    "    plt.plot(total, c='b')\n",
    "    plt.plot(train_plot, c='r', linewidth=1)\n",
    "    plt.plot(test_plot, c='g', linewidth=1)\n",
    "    plt.show()\n",
    "\n",
    "def validate_on_auto_measurement(model):\n",
    "    valid_train, valid_test, valid_total = data_split(validation)    \n",
    "    lookback = 1\n",
    "    X_train, _ = create_dataset(valid_train, lookback=lookback)\n",
    "    X_test, y_test = create_dataset(valid_test, lookback=lookback)\n",
    "\n",
    "    y_pred = model(X_test)\n",
    "    y_pred_test = y_pred\n",
    "        \n",
    "    print(f\"Метрики для автоматического измерения:\")\n",
    "    try:\n",
    "        validate(y_pred_test, y_test)\n",
    "    except:\n",
    "        validate(y_pred_test.detach(), y_test.detach())\n",
    "    plot_train_n_pred(X_train, X_test, valid_total, model)"
   ],
   "metadata": {
    "collapsed": false,
    "ExecuteTime": {
     "end_time": "2024-01-03T12:48:08.629096Z",
     "start_time": "2024-01-03T12:48:08.622365Z"
    }
   },
   "id": "b456e51e51125306"
  },
  {
   "cell_type": "code",
   "execution_count": 27,
   "outputs": [
    {
     "name": "stdout",
     "output_type": "stream",
     "text": [
      "Метрики для автоматического измерения:\n",
      "MSE: 0.0017575104\n",
      "RMSE: 0.04192267114192189\n",
      "MAE: 0.010624688\n",
      "MAPE: 3.178875520825386\n",
      "R2: 0.8327059699930153\n"
     ]
    },
    {
     "data": {
      "text/plain": "<Figure size 1200x700 with 1 Axes>",
      "image/png": "[encoded data removed]"
     },
     "metadata": {},
     "output_type": "display_data"
    }
   ],
   "source": [
    "validate_on_auto_measurement(model)"
   ],
   "metadata": {
    "collapsed": false,
    "ExecuteTime": {
     "end_time": "2024-01-03T12:57:12.452992Z",
     "start_time": "2024-01-03T12:57:12.315485Z"
    }
   },
   "id": "fc8e59bfe3ca4323"
  },
  {
   "cell_type": "code",
   "execution_count": null,
   "outputs": [],
   "source": [],
   "metadata": {
    "collapsed": false
   },
   "id": "97f659e2e8eb1118"
  }
 ],
 "metadata": {
  "kernelspec": {
   "display_name": "Python 3",
   "language": "python",
   "name": "python3"
  },
  "language_info": {
   "codemirror_mode": {
    "name": "ipython",
    "version": 2
   },
   "file_extension": ".py",
   "mimetype": "text/x-python",
   "name": "python",
   "nbconvert_exporter": "python",
   "pygments_lexer": "ipython2",
   "version": "2.7.6"
  }
 },
 "nbformat": 4,
 "nbformat_minor": 5
}
